{
 "cells": [
  {
   "cell_type": "code",
   "execution_count": 4,
   "metadata": {},
   "outputs": [
    {
     "data": {
      "text/plain": [
       "True"
      ]
     },
     "execution_count": 4,
     "metadata": {},
     "output_type": "execute_result"
    }
   ],
   "source": [
    "import os\n",
    "import mido\n",
    "import json\n",
    "import openai\n",
    "from datetime import datetime\n",
    "from dotenv import load_dotenv\n",
    "from midi2audio import FluidSynth\n",
    "\n",
    "load_dotenv()"
   ]
  },
  {
   "cell_type": "code",
   "execution_count": 5,
   "metadata": {},
   "outputs": [],
   "source": [
    "def generate_music_from_text(text):\n",
    "    openai.organization = os.getenv('OPENAI_ORGANIZATION')\n",
    "    openai.api_key =os.getenv('OPENAI_API_KEY')\n",
    "    # https://beta.openai.com/docs/api-reference/completions/create\n",
    "    response = openai.ChatCompletion.create(\n",
    "        model=\"gpt-3.5-turbo\",\n",
    "        user=\"experimental-notebook\",\n",
    "        messages=[\n",
    "            {\n",
    "                \"content\": \"I need your support generating unique and original music based on the user input. Make sure to produce unique and original music inpsired by the user input\",\n",
    "                \"role\": \"user\",\n",
    "            },\n",
    "            {\n",
    "                \"content\": \"This is an example JSON file showcasing the format of the output I expect from you.\",\n",
    "                \"role\": \"user\",\n",
    "            },\n",
    "            {\n",
    "                \"content\": \"\"\"\n",
    "              {\n",
    "                \"tempo\": 80,\n",
    "                \"time_signature\": \"4/4\",\n",
    "                \"tracks\": [\n",
    "                  {\n",
    "                    \"instrument\": \"Piano\",\n",
    "                    \"notes\": \"A5-1.5, D5-0.5, F#5-1.5, D5-0.5, A5-1.5, D5-0.5, F#5-1.5, D5-0.5, A5-1.5, D5-0.5, F#5-1.5, D5-0.5, A5-1.5, D5-0.5, F#5-1.5, D5-0.5, A5-1.5, D5-0.5, F#5-1.5, D5-0.5, A5-1.5, D5-0.5, F#5-1.5, D5-0.5, A5-1.5, D5-0.5, F#5-1.5, D5-0.5\",\n",
    "                    \"channel\": 0\n",
    "                  },\n",
    "                  {\n",
    "                    \"instrument\": \"Strings\",\n",
    "                    \"notes\": \"A3-1.5, D3-0.5, F#3-1.5, D3-0.5, A3-1.5, D3-0.5, F#3-1.5, D3-0.5, A3-1.5, D3-0.5, F#3-1.5, D3-0.5, A3-1.5, D3-0.5, F#3-1.5, D3-0.5, A3-1.5, D3-0.5, F#3-1.5, D3-0.5, A3-1.5, D3-0.5, F#3-1.5, D3-0.5, A3-1.5, D3-0.5, F#3-1.5, D3-0.5\",\n",
    "                    \"channel\": 1\n",
    "                  },\n",
    "                  {\n",
    "                    \"instrument\": \"Synth\",\n",
    "                    \"notes\": \"A5-1.5, D6-0.5, F#5-1.5, D6-0.5, A5-1.5, D6-0.5, F#5-1.5, D6-0.5, A5-1.5, D6-0.5, F#5-1.5, D6-0.5, A5-1.5, D6-0.5, F#5-1.5, D6-0.5, A5-1.5, D6-0.5, F#5-1.5, D6-0.5, A5-1.5, D6-0.5, F#5-1.5, D6-0.5, A5-1.5, D6-0.5, F#5-1.5, D6-0.5\",\n",
    "                    \"channel\": 2\n",
    "                  },\n",
    "                  {\n",
    "                    \"instrument\": \"Drums\",\n",
    "                    \"notes\": \"C2-1.0, C2-0.5, C2-0.5, C2-0.5, C2-0.5, C2-0.5, C2-0.5, C2-0.5, C2-0.25, C2-0.25, C2-0.25, C2-0.25, C2-0.25, C2-0.25, C2-0.25, C2-0.25, C2-0.25, C2-0.25, C2-0.25, C2-0.25, C2-0.25, C2-0.25, C2-0.25, C2-0.25, C2-0.25, G3-2.0, G3-2.0, G3-2.0, G3-2.0\"\n",
    "                  }\n",
    "                ]\n",
    "              }\n",
    "              \"\"\",\n",
    "                \"role\": \"user\",\n",
    "            },\n",
    "            {\n",
    "                \"content\": \"I already have a function that will take your output and convert into proper MIDI files + wav files. So no need to worry about that. I just need you to generate the JSON file. Just return the JSON file. No questions. No additional information. No comments. Only the JSON file. Your first letter is { and the last letter is }\",\n",
    "                \"role\": \"user\",\n",
    "            },\n",
    "            {\n",
    "                \"content\": text,\n",
    "                \"role\": \"user\",\n",
    "            },\n",
    "        ],\n",
    "    )\n",
    "    message = response[\"choices\"][0][\"message\"]['content']\n",
    "    print(message)\n",
    "    return json.loads(message)\n",
    "\n",
    "def parse_note(pitch):\n",
    "    \"\"\"Convert a pitch name to a MIDI note number.\"\"\"\n",
    "    # Define a dictionary of note names and their offsets from C\n",
    "    note_names = {\n",
    "        \"C\": 0,\n",
    "        \"C#\": 1,\n",
    "        \"Db\": 1,\n",
    "        \"D\": 2,\n",
    "        \"D#\": 3,\n",
    "        \"Eb\": 3,\n",
    "        \"E\": 4,\n",
    "        \"F\": 5,\n",
    "        \"F#\": 6,\n",
    "        \"Gb\": 6,\n",
    "        \"G\": 7,\n",
    "        \"G#\": 8,\n",
    "        \"Ab\": 8,\n",
    "        \"A\": 9,\n",
    "        \"A#\": 10,\n",
    "        \"Bb\": 10,\n",
    "        \"B\": 11\n",
    "    }\n",
    "\n",
    "    # Split the pitch name into note name and octave number\n",
    "    note_name = pitch[:-1]\n",
    "    octave = int(pitch[-1])\n",
    "\n",
    "    # Calculate the MIDI note number based on the formula:\n",
    "    # note_number = (octave + 1) * 12 + note_names[note_name]\n",
    "    note_number = (octave + 1) * 12 + note_names[note_name]\n",
    "\n",
    "    # Return the MIDI note number\n",
    "    return note_number\n",
    "\n",
    "def get_channel(instrument):\n",
    "    instrument_to_channel = {\n",
    "        \"Piano\": 0,\n",
    "        \"Strings\": 1,\n",
    "        \"Guitar\": 2,\n",
    "        \"Bass\": 11,\n",
    "        \"Drums\": 9,\n",
    "        \"Synth\": 2,\n",
    "        \"Orchestra\": 3\n",
    "    }\n",
    "\n",
    "    return instrument_to_channel[instrument]"
   ]
  },
  {
   "cell_type": "code",
   "execution_count": 6,
   "metadata": {},
   "outputs": [
    {
     "name": "stdout",
     "output_type": "stream",
     "text": [
      "{\n",
      "  \"tempo\": 130,\n",
      "  \"time_signature\": \"4/4\",\n",
      "  \"tracks\": [\n",
      "    {\n",
      "      \"instrument\": \"Piano\",\n",
      "      \"notes\": \"C3-0.5, D#3-0.5, G3-1, A#3-0.5, F3-1, A3-0.5, C#4-1, D#4-1, F#4-1, G#4-0.5, G4-0.5, F#4-0.5, E4-0.5, D#4-0.5, E4-0.5, B4-1.5, G#4-0.5, F#4-0.5, D#4-1.5, C4-0.5, A#3-0.5, G3-1, D#3-0.5, C3-1, A#3-0.5, G#3-1, F3-0.5, D#3-1, C#3-0.5, C3-1\",\n",
      "      \"channel\": 0\n",
      "    }\n",
      "  ]\n",
      "}\n"
     ]
    }
   ],
   "source": [
    "file_name = 'automated'\n",
    "score = generate_music_from_text('Combination of Experience by Einaudi and River Flows in You by Yiruma. Just use the Piano. Make it fast. Make it interesting. Make it short. I want to feel something.')"
   ]
  },
  {
   "cell_type": "code",
   "execution_count": 18,
   "metadata": {},
   "outputs": [
    {
     "name": "stdout",
     "output_type": "stream",
     "text": [
      "FluidSynth runtime version 2.3.1\n",
      "Copyright (C) 2000-2022 Peter Hanappe and others.\n",
      "Distributed under the LGPL license.\n",
      "SoundFont(R) is a registered trademark of Creative Technology Ltd.\n",
      "\n",
      "Rendering audio to file './output/2023_03_05_11_27_54/automated.wav'..\n"
     ]
    }
   ],
   "source": [
    "# Create a MIDI file object\n",
    "mid = mido.MidiFile()\n",
    "\n",
    "# Create a track for each track in the score\n",
    "for track in score[\"tracks\"]:\n",
    "    # Add a track name meta message\n",
    "    mid_track = mido.MidiTrack()\n",
    "    mid_track.append(mido.MetaMessage(\"track_name\", name=track[\"instrument\"]))\n",
    "\n",
    "    # Set the tempo meta message based on the score tempo\n",
    "    mid_track.append(mido.MetaMessage(\"set_tempo\", tempo=mido.bpm2tempo(score[\"tempo\"])))\n",
    "\n",
    "    # Set the time signature meta message based on the score time signature\n",
    "    num, den = map(int, score[\"time_signature\"].split(\"/\"))\n",
    "    mid_track.append(mido.MetaMessage(\"time_signature\", numerator=num, denominator=den))\n",
    "\n",
    "    # Add note messages for each note in the track\n",
    "    for note in track[\"notes\"].split(', '):\n",
    "        # Extract pitch and duration from the note string\n",
    "        pitch, duration = note.split(\"-\")\n",
    "        pitch = parse_note(pitch.strip())\n",
    "        duration = int(float(duration.strip()) * mid.ticks_per_beat * (score[\"tempo\"] / 60))\n",
    "\n",
    "        # Add note on and note off messages with velocity 64 and time 0\n",
    "        mid_track.append(mido.Message(\"note_on\",channel=get_channel(track['instrument']), note=pitch, velocity=64, time=0))\n",
    "        mid_track.append(mido.Message(\"note_off\",channel=get_channel(track['instrument']), note=pitch, velocity=64, time=duration))\n",
    "\n",
    "    # Add end of track meta message\n",
    "    mid_track.append(mido.MetaMessage(\"end_of_track\"))\n",
    "\n",
    "    # Append the track to the MIDI file object\n",
    "    mid.tracks.append(mid_track)\n",
    "\n",
    "\n",
    "# Create output directory with all relevant resources\n",
    "output_directory = f\"./output/{datetime.now().strftime('%Y_%m_%d_%H_%M_%S')}\"\n",
    "os.mkdir(output_directory)\n",
    "json.dump(score, open(f\"{output_directory}/{file_name}.json\", \"w\"), indent=4)\n",
    "# Save the MIDI file object as \"labyrinth_timestamp.mid\"\n",
    "mid.save(f\"{output_directory}/{file_name}.mid\")\n",
    "# Create a FluidSynth object with a sound font file\n",
    "# fs = FluidSynth(\"Essential Keys-sforzando-v9.6.sf2\")\n",
    "fs = FluidSynth(\"FluidR3_GM.sf2\")\n",
    "# Convert the MIDI file to a WAV file\n",
    "fs.midi_to_audio(f\"{output_directory}/{file_name}.mid\", f\"{output_directory}/{file_name}.wav\")\n"
   ]
  },
  {
   "cell_type": "code",
   "execution_count": null,
   "metadata": {},
   "outputs": [],
   "source": []
  }
 ],
 "metadata": {
  "kernelspec": {
   "display_name": "env",
   "language": "python",
   "name": "python3"
  },
  "language_info": {
   "codemirror_mode": {
    "name": "ipython",
    "version": 3
   },
   "file_extension": ".py",
   "mimetype": "text/x-python",
   "name": "python",
   "nbconvert_exporter": "python",
   "pygments_lexer": "ipython3",
   "version": "3.10.10"
  },
  "orig_nbformat": 4,
  "vscode": {
   "interpreter": {
    "hash": "33d06d106391211f8105d542c7640dec154fb92823509f7b8bf55eb5f902a6f0"
   }
  }
 },
 "nbformat": 4,
 "nbformat_minor": 2
}
