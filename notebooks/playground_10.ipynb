{
 "cells": [
  {
   "cell_type": "code",
   "execution_count": 2,
   "metadata": {},
   "outputs": [
    {
     "name": "stdout",
     "output_type": "stream",
     "text": [
      "FluidSynth runtime version 2.3.1\n",
      "Copyright (C) 2000-2022 Peter Hanappe and others.\n",
      "Distributed under the LGPL license.\n",
      "SoundFont(R) is a registered trademark of Creative Technology Ltd.\n",
      "\n",
      "Rendering audio to file 'violin.wav'..\n"
     ]
    }
   ],
   "source": [
    "from music21 import converter\n",
    "from midi2audio import FluidSynth\n",
    "\n",
    "example = \"\"\"\n",
    "X:1\n",
    "T:Custom Instrument Tune\n",
    "M:4/4\n",
    "L:1/8\n",
    "Q:1/4=120\n",
    "K:C\n",
    "\n",
    "%%MIDI program 1 14 % Piano\n",
    "%%MIDI program 2 14 % Violin\n",
    "%%MIDI program 3 14 % Guitar\n",
    "\n",
    "V:1\n",
    "|: C2E2G2c2 | E2G2c2e2 | G2B2d2g2 | C4z4 :|\n",
    "\n",
    "V:2\n",
    "|: E2G2B2e2 | G2B2d2g2 | B2D2F2B2 | E4z4 :|\n",
    "\n",
    "V:3\n",
    "|: G2B2d2G2 | B2D2F2B2 | D2F2A2D2 | G4z4 :|\n",
    "\"\"\"\n",
    "\n",
    "\n",
    "# Converting ABC notation to MIDI file using music21\n",
    "s = converter.parse(example)\n",
    "s.write(\"midi\", fp=\"violin.mid\")\n",
    "\n",
    "\n",
    "# Converting MIDI file to WAV file using midi2audio\n",
    "fs = FluidSynth(\"GeneralUser_GS_v1.471.sf2\")\n",
    "fs.midi_to_audio(\"violin.mid\", \"violin.wav\")\n"
   ]
  },
  {
   "cell_type": "code",
   "execution_count": 6,
   "metadata": {},
   "outputs": [
    {
     "name": "stdout",
     "output_type": "stream",
     "text": [
      "FluidSynth runtime version 2.3.1\n",
      "Copyright (C) 2000-2022 Peter Hanappe and others.\n",
      "Distributed under the LGPL license.\n",
      "SoundFont(R) is a registered trademark of Creative Technology Ltd.\n",
      "\n",
      "Rendering audio to file './output/2023_03_17_18_25_40/temp.wav'..\n"
     ]
    }
   ],
   "source": [
    "import os\n",
    "from datetime import datetime\n",
    "from music21 import converter\n",
    "from midi2audio import FluidSynth\n",
    "\n",
    "def midi_to_wav(abc):\n",
    "  output_directory = f\"./output/{datetime.now().strftime('%Y_%m_%d_%H_%M_%S')}/\"\n",
    "  os.mkdir(output_directory)\n",
    "  # Create a temporary stream from the ABC notation\n",
    "  s = converter.parse(abc)\n",
    "  # Write the stream to a temporary MIDI file\n",
    "  s.write(\"midi\", fp=f\"{output_directory}temp.mid\")\n",
    "  # Create a FluidSynth object with a SoundFont file\n",
    "  fs = FluidSynth(\"./soundfonts/GeneralUser_GS_v1.471.sf2\")\n",
    "  # Convert the MIDI file to a WAV file and return it\n",
    "  return fs.midi_to_audio(f\"{output_directory}temp.mid\", f\"{output_directory}temp.wav\")\n",
    "\n",
    "# Test the function with an example ABC notation\n",
    "example = \"\"\"\n",
    "X:1\n",
    "T:Custom Instrument Tune\n",
    "M:4/4\n",
    "L:1/8\n",
    "Q:1/4=120\n",
    "K:C\n",
    "\n",
    "V:1\n",
    "|: C2E2G2c2 | E2G2c2e2 | G2B2d2g2 | C4z4 :|\n",
    "\n",
    "V:2\n",
    "|: E2G2B2e2 | G2B2d2g2 | B2D2F2B2 | E4z4 :|\n",
    "\n",
    "V:3\n",
    "|: G2B2d2G2 | B2D2F2B2 | D2F2A2D2 | G4z4 :|\n",
    "\"\"\"\n",
    "\n",
    "midi_to_wav(example)\n"
   ]
  },
  {
   "cell_type": "code",
   "execution_count": 3,
   "metadata": {},
   "outputs": [
    {
     "name": "stdout",
     "output_type": "stream",
     "text": [
      "FluidSynth runtime version 2.3.1\n",
      "Copyright (C) 2000-2022 Peter Hanappe and others.\n",
      "Distributed under the LGPL license.\n",
      "SoundFont(R) is a registered trademark of Creative Technology Ltd.\n",
      "\n",
      "Rendering audio to file './archive/violin.wav'..\n"
     ]
    }
   ],
   "source": [
    "!fluidsynth -ni ./soundfonts/FluidR3_GM.sf2 ./archive/violin.mid -T wav -F ./archive/violin.wav -g 0.5 -i -f ./archive/commands.txt"
   ]
  },
  {
   "cell_type": "code",
   "execution_count": 26,
   "metadata": {},
   "outputs": [
    {
     "ename": "StreamException",
     "evalue": "cannot process repeats on Stream that does not contain measures",
     "output_type": "error",
     "traceback": [
      "\u001b[0;31m---------------------------------------------------------------------------\u001b[0m",
      "\u001b[0;31mStreamException\u001b[0m                           Traceback (most recent call last)",
      "Cell \u001b[0;32mIn[26], line 24\u001b[0m\n\u001b[1;32m      1\u001b[0m example \u001b[39m=\u001b[39m \u001b[39m\"\"\"\u001b[39m\n\u001b[1;32m      2\u001b[0m \u001b[39mX:1\u001b[39m\n\u001b[1;32m      3\u001b[0m \u001b[39mT:River Flows in You\u001b[39m\n\u001b[0;32m   (...)\u001b[0m\n\u001b[1;32m     22\u001b[0m \u001b[39m| A2A2A2A2 B2B2B2B2 | B2B2B2B2 |\u001b[39m\n\u001b[1;32m     23\u001b[0m \u001b[39m\"\"\"\u001b[39m\n\u001b[0;32m---> 24\u001b[0m midi_to_wav(example)\n",
      "Cell \u001b[0;32mIn[6], line 12\u001b[0m, in \u001b[0;36mmidi_to_wav\u001b[0;34m(abc)\u001b[0m\n\u001b[1;32m     10\u001b[0m s \u001b[39m=\u001b[39m converter\u001b[39m.\u001b[39mparse(abc)\n\u001b[1;32m     11\u001b[0m \u001b[39m# Write the stream to a temporary MIDI file\u001b[39;00m\n\u001b[0;32m---> 12\u001b[0m s\u001b[39m.\u001b[39;49mwrite(\u001b[39m\"\u001b[39;49m\u001b[39mmidi\u001b[39;49m\u001b[39m\"\u001b[39;49m, fp\u001b[39m=\u001b[39;49m\u001b[39mf\u001b[39;49m\u001b[39m\"\u001b[39;49m\u001b[39m{\u001b[39;49;00moutput_directory\u001b[39m}\u001b[39;49;00m\u001b[39mtemp.mid\u001b[39;49m\u001b[39m\"\u001b[39;49m)\n\u001b[1;32m     13\u001b[0m \u001b[39m# Create a FluidSynth object with a SoundFont file\u001b[39;00m\n\u001b[1;32m     14\u001b[0m fs \u001b[39m=\u001b[39m FluidSynth(\u001b[39m\"\u001b[39m\u001b[39m./soundfonts/GeneralUser_GS_v1.471.sf2\u001b[39m\u001b[39m\"\u001b[39m)\n",
      "File \u001b[0;32m~/Desktop/CODING/songGPT/notebooks/env/lib/python3.10/site-packages/music21/stream/base.py:391\u001b[0m, in \u001b[0;36mStream.write\u001b[0;34m(self, fmt, fp, **keywords)\u001b[0m\n\u001b[1;32m    389\u001b[0m \u001b[39mif\u001b[39;00m \u001b[39mself\u001b[39m\u001b[39m.\u001b[39misSorted \u001b[39mis\u001b[39;00m \u001b[39mFalse\u001b[39;00m \u001b[39mand\u001b[39;00m \u001b[39mself\u001b[39m\u001b[39m.\u001b[39mautoSort:  \u001b[39m# pragma: no cover\u001b[39;00m\n\u001b[1;32m    390\u001b[0m     \u001b[39mself\u001b[39m\u001b[39m.\u001b[39msort()\n\u001b[0;32m--> 391\u001b[0m \u001b[39mreturn\u001b[39;00m \u001b[39msuper\u001b[39;49m()\u001b[39m.\u001b[39;49mwrite(fmt\u001b[39m=\u001b[39;49mfmt, fp\u001b[39m=\u001b[39;49mfp, \u001b[39m*\u001b[39;49m\u001b[39m*\u001b[39;49mkeywords)\n",
      "File \u001b[0;32m~/Desktop/CODING/songGPT/notebooks/env/lib/python3.10/site-packages/music21/base.py:2815\u001b[0m, in \u001b[0;36mMusic21Object.write\u001b[0;34m(self, fmt, fp, **keywords)\u001b[0m\n\u001b[1;32m   2813\u001b[0m scClass \u001b[39m=\u001b[39m common\u001b[39m.\u001b[39mfindSubConverterForFormat(regularizedConverterFormat)\n\u001b[1;32m   2814\u001b[0m formatWriter \u001b[39m=\u001b[39m scClass()\n\u001b[0;32m-> 2815\u001b[0m \u001b[39mreturn\u001b[39;00m formatWriter\u001b[39m.\u001b[39;49mwrite(\u001b[39mself\u001b[39;49m,\n\u001b[1;32m   2816\u001b[0m                           regularizedConverterFormat,\n\u001b[1;32m   2817\u001b[0m                           fp\u001b[39m=\u001b[39;49mfp,\n\u001b[1;32m   2818\u001b[0m                           subformats\u001b[39m=\u001b[39;49msubformats,\n\u001b[1;32m   2819\u001b[0m                           \u001b[39m*\u001b[39;49m\u001b[39m*\u001b[39;49mkeywords)\n",
      "File \u001b[0;32m~/Desktop/CODING/songGPT/notebooks/env/lib/python3.10/site-packages/music21/converter/subConverters.py:1217\u001b[0m, in \u001b[0;36mConverterMidi.write\u001b[0;34m(self, obj, fmt, fp, subformats, addStartDelay, **keywords)\u001b[0m\n\u001b[1;32m   1214\u001b[0m \u001b[39mif\u001b[39;00m fp \u001b[39mis\u001b[39;00m \u001b[39mNone\u001b[39;00m:\n\u001b[1;32m   1215\u001b[0m     fp \u001b[39m=\u001b[39m \u001b[39mself\u001b[39m\u001b[39m.\u001b[39mgetTemporaryFile()\n\u001b[0;32m-> 1217\u001b[0m mf \u001b[39m=\u001b[39m midiTranslate\u001b[39m.\u001b[39;49mmusic21ObjectToMidiFile(obj, addStartDelay\u001b[39m=\u001b[39;49maddStartDelay)\n\u001b[1;32m   1218\u001b[0m mf\u001b[39m.\u001b[39mopen(fp, \u001b[39m'\u001b[39m\u001b[39mwb\u001b[39m\u001b[39m'\u001b[39m)  \u001b[39m# write binary\u001b[39;00m\n\u001b[1;32m   1219\u001b[0m mf\u001b[39m.\u001b[39mwrite()\n",
      "File \u001b[0;32m~/Desktop/CODING/songGPT/notebooks/env/lib/python3.10/site-packages/music21/midi/translate.py:267\u001b[0m, in \u001b[0;36mmusic21ObjectToMidiFile\u001b[0;34m(music21Object, addStartDelay)\u001b[0m\n\u001b[1;32m    264\u001b[0m     \u001b[39mif\u001b[39;00m music21Object\u001b[39m.\u001b[39matSoundingPitch \u001b[39mis\u001b[39;00m \u001b[39mFalse\u001b[39;00m:\n\u001b[1;32m    265\u001b[0m         music21Object \u001b[39m=\u001b[39m music21Object\u001b[39m.\u001b[39mtoSoundingPitch()\n\u001b[0;32m--> 267\u001b[0m     \u001b[39mreturn\u001b[39;00m streamToMidiFile(music21Object, addStartDelay\u001b[39m=\u001b[39;49maddStartDelay)\n\u001b[1;32m    268\u001b[0m \u001b[39melse\u001b[39;00m:\n\u001b[1;32m    269\u001b[0m     m21ObjectCopy \u001b[39m=\u001b[39m copy\u001b[39m.\u001b[39mdeepcopy(music21Object)\n",
      "File \u001b[0;32m~/Desktop/CODING/songGPT/notebooks/env/lib/python3.10/site-packages/music21/midi/translate.py:2659\u001b[0m, in \u001b[0;36mstreamToMidiFile\u001b[0;34m(inputM21, addStartDelay, acceptableChannelList)\u001b[0m\n\u001b[1;32m   2656\u001b[0m \u001b[39mfrom\u001b[39;00m \u001b[39mmusic21\u001b[39;00m \u001b[39mimport\u001b[39;00m midi \u001b[39mas\u001b[39;00m midiModule\n\u001b[1;32m   2658\u001b[0m s \u001b[39m=\u001b[39m inputM21\n\u001b[0;32m-> 2659\u001b[0m midiTracks \u001b[39m=\u001b[39m streamHierarchyToMidiTracks(s,\n\u001b[1;32m   2660\u001b[0m                                          addStartDelay\u001b[39m=\u001b[39;49maddStartDelay,\n\u001b[1;32m   2661\u001b[0m                                          acceptableChannelList\u001b[39m=\u001b[39;49macceptableChannelList,\n\u001b[1;32m   2662\u001b[0m                                          )\n\u001b[1;32m   2664\u001b[0m \u001b[39m# may need to update channel information\u001b[39;00m\n\u001b[1;32m   2666\u001b[0m mf \u001b[39m=\u001b[39m midiModule\u001b[39m.\u001b[39mMidiFile()\n",
      "File \u001b[0;32m~/Desktop/CODING/songGPT/notebooks/env/lib/python3.10/site-packages/music21/midi/translate.py:2521\u001b[0m, in \u001b[0;36mstreamHierarchyToMidiTracks\u001b[0;34m(inputM21, acceptableChannelList, addStartDelay)\u001b[0m\n\u001b[1;32m   2495\u001b[0m \u001b[39m\u001b[39m\u001b[39m'''\u001b[39;00m\n\u001b[1;32m   2496\u001b[0m \u001b[39mGiven a Stream, Score, Part, etc., that may have substreams (i.e.,\u001b[39;00m\n\u001b[1;32m   2497\u001b[0m \u001b[39ma hierarchy), return a list of :class:`~music21.midi.MidiTrack` objects.\u001b[39;00m\n\u001b[0;32m   (...)\u001b[0m\n\u001b[1;32m   2518\u001b[0m \u001b[39mChanged in v.6.5 -- Track 0 (tempo/conductor track) always exported.\u001b[39;00m\n\u001b[1;32m   2519\u001b[0m \u001b[39m'''\u001b[39;00m\n\u001b[1;32m   2520\u001b[0m \u001b[39m# makes a deepcopy\u001b[39;00m\n\u001b[0;32m-> 2521\u001b[0m s \u001b[39m=\u001b[39m prepareStreamForMidi(inputM21)\n\u001b[1;32m   2522\u001b[0m channelByInstrument, channelsDynamic \u001b[39m=\u001b[39m channelInstrumentData(s, acceptableChannelList)\n\u001b[1;32m   2524\u001b[0m \u001b[39m# return a list of MidiTrack objects\u001b[39;00m\n",
      "File \u001b[0;32m~/Desktop/CODING/songGPT/notebooks/env/lib/python3.10/site-packages/music21/midi/translate.py:2131\u001b[0m, in \u001b[0;36mprepareStreamForMidi\u001b[0;34m(s)\u001b[0m\n\u001b[1;32m   2128\u001b[0m \u001b[39mfrom\u001b[39;00m \u001b[39mmusic21\u001b[39;00m \u001b[39mimport\u001b[39;00m volume\n\u001b[1;32m   2130\u001b[0m \u001b[39mif\u001b[39;00m s[stream\u001b[39m.\u001b[39mMeasure]:\n\u001b[0;32m-> 2131\u001b[0m     s \u001b[39m=\u001b[39m s\u001b[39m.\u001b[39;49mexpandRepeats()  \u001b[39m# makes a deep copy\u001b[39;00m\n\u001b[1;32m   2132\u001b[0m \u001b[39melse\u001b[39;00m:\n\u001b[1;32m   2133\u001b[0m     s \u001b[39m=\u001b[39m s\u001b[39m.\u001b[39mcoreCopyAsDerivation(\u001b[39m'\u001b[39m\u001b[39mprepareStreamForMidi\u001b[39m\u001b[39m'\u001b[39m)\n",
      "File \u001b[0;32m~/Desktop/CODING/songGPT/notebooks/env/lib/python3.10/site-packages/music21/stream/base.py:13785\u001b[0m, in \u001b[0;36mScore.expandRepeats\u001b[0;34m(self)\u001b[0m\n\u001b[1;32m  13782\u001b[0m p: Part\n\u001b[1;32m  13783\u001b[0m \u001b[39mfor\u001b[39;00m p \u001b[39min\u001b[39;00m \u001b[39mself\u001b[39m\u001b[39m.\u001b[39mgetElementsByClass(\u001b[39m'\u001b[39m\u001b[39mPart\u001b[39m\u001b[39m'\u001b[39m):\n\u001b[1;32m  13784\u001b[0m     \u001b[39m# get spanners at highest level, not by Part\u001b[39;00m\n\u001b[0;32m> 13785\u001b[0m     post\u001b[39m.\u001b[39minsert(\u001b[39m0\u001b[39m, p\u001b[39m.\u001b[39;49mexpandRepeats(copySpanners\u001b[39m=\u001b[39;49m\u001b[39mFalse\u001b[39;49;00m))\n\u001b[1;32m  13787\u001b[0m \u001b[39m# spannerBundle = spanner.SpannerBundle(list(post.flatten().spanners))\u001b[39;00m\n\u001b[1;32m  13788\u001b[0m spannerBundle \u001b[39m=\u001b[39m post\u001b[39m.\u001b[39mspannerBundle  \u001b[39m# use property\u001b[39;00m\n",
      "File \u001b[0;32m~/Desktop/CODING/songGPT/notebooks/env/lib/python3.10/site-packages/music21/stream/base.py:9291\u001b[0m, in \u001b[0;36mStream.expandRepeats\u001b[0;34m(self, copySpanners)\u001b[0m\n\u001b[1;32m   9277\u001b[0m \u001b[39m\u001b[39m\u001b[39m'''\u001b[39;00m\n\u001b[1;32m   9278\u001b[0m \u001b[39mExpand this Stream with repeats. Nested repeats\u001b[39;00m\n\u001b[1;32m   9279\u001b[0m \u001b[39mgiven with :class:`~music21.bar.Repeat` objects, or\u001b[39;00m\n\u001b[0;32m   (...)\u001b[0m\n\u001b[1;32m   9288\u001b[0m \u001b[39mTODO: DOC TEST\u001b[39;00m\n\u001b[1;32m   9289\u001b[0m \u001b[39m'''\u001b[39;00m\n\u001b[1;32m   9290\u001b[0m \u001b[39mif\u001b[39;00m \u001b[39mnot\u001b[39;00m \u001b[39mself\u001b[39m\u001b[39m.\u001b[39mhasMeasures():\n\u001b[0;32m-> 9291\u001b[0m     \u001b[39mraise\u001b[39;00m StreamException(\n\u001b[1;32m   9292\u001b[0m         \u001b[39m'\u001b[39m\u001b[39mcannot process repeats on Stream that does not contain measures\u001b[39m\u001b[39m'\u001b[39m\n\u001b[1;32m   9293\u001b[0m     )\n\u001b[1;32m   9295\u001b[0m ex \u001b[39m=\u001b[39m repeat\u001b[39m.\u001b[39mExpander(\u001b[39mself\u001b[39m)\n\u001b[1;32m   9296\u001b[0m post \u001b[39m=\u001b[39m ex\u001b[39m.\u001b[39mprocess()\n",
      "\u001b[0;31mStreamException\u001b[0m: cannot process repeats on Stream that does not contain measures"
     ]
    }
   ],
   "source": [
    "example = \"\"\"\n",
    "X:1\n",
    "T:Custom Instrument Tune\n",
    "M:4/4\n",
    "L:1/8\n",
    "Q:1/4=120\n",
    "K:C\n",
    "\n",
    "I:MIDI=1 program 0   % Piano - Voice 1\n",
    "I:MIDI=2 program 40  % Violin - Voice 2\n",
    "I:MIDI=3 program 27  % Guitar - Voice 3\n",
    "\n",
    "V:1\n",
    "|: C2E2G2c2 | E2G2c2e2 | G2B2d2g2 | C4z4 :|\n",
    "\n",
    "V:2\n",
    "|: E2G2B2e2 | G2B2d2g2 | B2D2F2B2 | E4z4 :|\n",
    "\n",
    "V:3\n",
    "|: G2B2d2G2 | B2D2F2B2 | D2F2A2D2 | G4z4 :|\n",
    "\"\"\"\n",
    "midi_to_wav(example)\n"
   ]
  },
  {
   "cell_type": "code",
   "execution_count": 15,
   "metadata": {},
   "outputs": [],
   "source": [
    "from music21 import midi as m21_midi\n",
    "\n",
    "def abc_to_midi(abc):\n",
    "    output_directory = f\"./output/{datetime.now().strftime('%Y_%m_%d_%H_%M_%S')}/\"\n",
    "    os.makedirs(output_directory, exist_ok=True)\n",
    "    # Create a temporary stream from the ABC notation\n",
    "    s = converter.parse(abc)\n",
    "    \n",
    "    # Create a music21 MIDI object\n",
    "    mf = m21_midi.translate.streamToMidiFile(s)\n",
    "    \n",
    "    # Set instrument programs for each track\n",
    "    for i, track in enumerate(mf.tracks):\n",
    "        program = 0\n",
    "        if i == 1:\n",
    "            program = 40  # Violin\n",
    "        elif i == 2:\n",
    "            program = 27  # Guitar\n",
    "        program_change_event = m21_midi.MidiEvent(track, type='PROGRAM_CHANGE')\n",
    "        program_change_event.data = [program]\n",
    "        track.events.insert(0, program_change_event)\n",
    "    # Write the MIDI object to a temporary MIDI file\n",
    "    midi_path = f\"{output_directory}temp.mid\"\n",
    "    mf.open(midi_path, \"wb\")\n",
    "    mf.write()\n",
    "    mf.close()\n",
    "\n",
    "    return midi_path"
   ]
  },
  {
   "cell_type": "code",
   "execution_count": 16,
   "metadata": {},
   "outputs": [
    {
     "ename": "TypeError",
     "evalue": "unsupported operand type(s) for 'in': 'str' and 'EnumMeta'",
     "output_type": "error",
     "traceback": [
      "\u001b[0;31m---------------------------------------------------------------------------\u001b[0m",
      "\u001b[0;31mTypeError\u001b[0m                                 Traceback (most recent call last)",
      "Cell \u001b[0;32mIn[16], line 1\u001b[0m\n\u001b[0;32m----> 1\u001b[0m abc_to_midi(example)\n",
      "Cell \u001b[0;32mIn[15], line 25\u001b[0m, in \u001b[0;36mabc_to_midi\u001b[0;34m(abc)\u001b[0m\n\u001b[1;32m     23\u001b[0m midi_path \u001b[39m=\u001b[39m \u001b[39mf\u001b[39m\u001b[39m\"\u001b[39m\u001b[39m{\u001b[39;00moutput_directory\u001b[39m}\u001b[39;00m\u001b[39mtemp.mid\u001b[39m\u001b[39m\"\u001b[39m\n\u001b[1;32m     24\u001b[0m mf\u001b[39m.\u001b[39mopen(midi_path, \u001b[39m\"\u001b[39m\u001b[39mwb\u001b[39m\u001b[39m\"\u001b[39m)\n\u001b[0;32m---> 25\u001b[0m mf\u001b[39m.\u001b[39;49mwrite()\n\u001b[1;32m     26\u001b[0m mf\u001b[39m.\u001b[39mclose()\n\u001b[1;32m     28\u001b[0m \u001b[39mreturn\u001b[39;00m midi_path\n",
      "File \u001b[0;32m~/Desktop/CODING/songGPT/notebooks/env/lib/python3.10/site-packages/music21/midi/__init__.py:1624\u001b[0m, in \u001b[0;36mMidiFile.write\u001b[0;34m(self)\u001b[0m\n\u001b[1;32m   1620\u001b[0m \u001b[39mdef\u001b[39;00m \u001b[39mwrite\u001b[39m(\u001b[39mself\u001b[39m):\n\u001b[1;32m   1621\u001b[0m \u001b[39m    \u001b[39m\u001b[39m'''\u001b[39;00m\n\u001b[1;32m   1622\u001b[0m \u001b[39m    Write MIDI data as a file to the file opened with `.open()`.\u001b[39;00m\n\u001b[1;32m   1623\u001b[0m \u001b[39m    '''\u001b[39;00m\n\u001b[0;32m-> 1624\u001b[0m     ws \u001b[39m=\u001b[39m \u001b[39mself\u001b[39;49m\u001b[39m.\u001b[39;49mwritestr()\n\u001b[1;32m   1625\u001b[0m     \u001b[39mself\u001b[39m\u001b[39m.\u001b[39mfile\u001b[39m.\u001b[39mwrite(ws)\n",
      "File \u001b[0;32m~/Desktop/CODING/songGPT/notebooks/env/lib/python3.10/site-packages/music21/midi/__init__.py:1636\u001b[0m, in \u001b[0;36mMidiFile.writestr\u001b[0;34m(self)\u001b[0m\n\u001b[1;32m   1634\u001b[0m midiBytes \u001b[39m=\u001b[39m \u001b[39mself\u001b[39m\u001b[39m.\u001b[39mwriteMThdStr()\n\u001b[1;32m   1635\u001b[0m \u001b[39mfor\u001b[39;00m trk \u001b[39min\u001b[39;00m \u001b[39mself\u001b[39m\u001b[39m.\u001b[39mtracks:\n\u001b[0;32m-> 1636\u001b[0m     midiBytes \u001b[39m=\u001b[39m midiBytes \u001b[39m+\u001b[39m trk\u001b[39m.\u001b[39;49mgetBytes()\n\u001b[1;32m   1637\u001b[0m \u001b[39mreturn\u001b[39;00m midiBytes\n",
      "File \u001b[0;32m~/Desktop/CODING/songGPT/notebooks/env/lib/python3.10/site-packages/music21/midi/__init__.py:1361\u001b[0m, in \u001b[0;36mMidiTrack.getBytes\u001b[0;34m(self)\u001b[0m\n\u001b[1;32m   1358\u001b[0m \u001b[39mfor\u001b[39;00m midiEvent \u001b[39min\u001b[39;00m \u001b[39mself\u001b[39m\u001b[39m.\u001b[39mevents:\n\u001b[1;32m   1359\u001b[0m     \u001b[39m# this writes both delta time and message events\u001b[39;00m\n\u001b[1;32m   1360\u001b[0m     \u001b[39mtry\u001b[39;00m:\n\u001b[0;32m-> 1361\u001b[0m         eventBytes \u001b[39m=\u001b[39m midiEvent\u001b[39m.\u001b[39;49mgetBytes()\n\u001b[1;32m   1362\u001b[0m         intArray \u001b[39m=\u001b[39m []\n\u001b[1;32m   1363\u001b[0m         \u001b[39mfor\u001b[39;00m x \u001b[39min\u001b[39;00m eventBytes:\n",
      "File \u001b[0;32m~/Desktop/CODING/songGPT/notebooks/env/lib/python3.10/site-packages/music21/midi/__init__.py:944\u001b[0m, in \u001b[0;36mMidiEvent.getBytes\u001b[0;34m(self)\u001b[0m\n\u001b[1;32m    931\u001b[0m \u001b[39mdef\u001b[39;00m \u001b[39mgetBytes\u001b[39m(\u001b[39mself\u001b[39m):\n\u001b[1;32m    932\u001b[0m \u001b[39m    \u001b[39m\u001b[39mr\u001b[39m\u001b[39m'''\u001b[39;00m\n\u001b[1;32m    933\u001b[0m \u001b[39m    Return a set of bytes for this MIDI event.\u001b[39;00m\n\u001b[1;32m    934\u001b[0m \n\u001b[0;32m   (...)\u001b[0m\n\u001b[1;32m    942\u001b[0m \u001b[39m    b'\\x99>\\x7f'\u001b[39;00m\n\u001b[1;32m    943\u001b[0m \u001b[39m    '''\u001b[39;00m\n\u001b[0;32m--> 944\u001b[0m     \u001b[39mif\u001b[39;00m \u001b[39mself\u001b[39;49m\u001b[39m.\u001b[39;49mtype \u001b[39min\u001b[39;49;00m ChannelVoiceMessages:\n\u001b[1;32m    945\u001b[0m         \u001b[39m# environLocal.printDebug(['writing channelVoiceMessages', self.type])\u001b[39;00m\n\u001b[1;32m    946\u001b[0m         bytes0 \u001b[39m=\u001b[39m \u001b[39mbytes\u001b[39m([\u001b[39mself\u001b[39m\u001b[39m.\u001b[39mchannel \u001b[39m-\u001b[39m \u001b[39m1\u001b[39m \u001b[39m+\u001b[39m \u001b[39mself\u001b[39m\u001b[39m.\u001b[39mtype\u001b[39m.\u001b[39mvalue])\n\u001b[1;32m    947\u001b[0m         \u001b[39m# for writing note-on/note-off\u001b[39;00m\n",
      "File \u001b[0;32m/opt/homebrew/Cellar/python@3.10/3.10.10/Frameworks/Python.framework/Versions/3.10/lib/python3.10/enum.py:405\u001b[0m, in \u001b[0;36mEnumMeta.__contains__\u001b[0;34m(cls, obj)\u001b[0m\n\u001b[1;32m    398\u001b[0m     \u001b[39mimport\u001b[39;00m \u001b[39mwarnings\u001b[39;00m\n\u001b[1;32m    399\u001b[0m     warnings\u001b[39m.\u001b[39mwarn(\n\u001b[1;32m    400\u001b[0m             \u001b[39m\"\u001b[39m\u001b[39min 3.12 __contains__ will no longer raise TypeError, but will return True if\u001b[39m\u001b[39m\\n\u001b[39;00m\u001b[39m\"\u001b[39m\n\u001b[1;32m    401\u001b[0m             \u001b[39m\"\u001b[39m\u001b[39mobj is a member or a member\u001b[39m\u001b[39m'\u001b[39m\u001b[39ms value\u001b[39m\u001b[39m\"\u001b[39m,\n\u001b[1;32m    402\u001b[0m             \u001b[39mDeprecationWarning\u001b[39;00m,\n\u001b[1;32m    403\u001b[0m             stacklevel\u001b[39m=\u001b[39m\u001b[39m2\u001b[39m,\n\u001b[1;32m    404\u001b[0m             )\n\u001b[0;32m--> 405\u001b[0m     \u001b[39mraise\u001b[39;00m \u001b[39mTypeError\u001b[39;00m(\n\u001b[1;32m    406\u001b[0m         \u001b[39m\"\u001b[39m\u001b[39munsupported operand type(s) for \u001b[39m\u001b[39m'\u001b[39m\u001b[39min\u001b[39m\u001b[39m'\u001b[39m\u001b[39m: \u001b[39m\u001b[39m'\u001b[39m\u001b[39m%s\u001b[39;00m\u001b[39m'\u001b[39m\u001b[39m and \u001b[39m\u001b[39m'\u001b[39m\u001b[39m%s\u001b[39;00m\u001b[39m'\u001b[39m\u001b[39m\"\u001b[39m \u001b[39m%\u001b[39m (\n\u001b[1;32m    407\u001b[0m             \u001b[39mtype\u001b[39m(obj)\u001b[39m.\u001b[39m\u001b[39m__qualname__\u001b[39m, \u001b[39mcls\u001b[39m\u001b[39m.\u001b[39m\u001b[39m__class__\u001b[39m\u001b[39m.\u001b[39m\u001b[39m__qualname__\u001b[39m))\n\u001b[1;32m    408\u001b[0m \u001b[39mreturn\u001b[39;00m \u001b[39misinstance\u001b[39m(obj, \u001b[39mcls\u001b[39m) \u001b[39mand\u001b[39;00m obj\u001b[39m.\u001b[39m_name_ \u001b[39min\u001b[39;00m \u001b[39mcls\u001b[39m\u001b[39m.\u001b[39m_member_map_\n",
      "\u001b[0;31mTypeError\u001b[0m: unsupported operand type(s) for 'in': 'str' and 'EnumMeta'"
     ]
    }
   ],
   "source": [
    "abc_to_midi(example)"
   ]
  },
  {
   "cell_type": "code",
   "execution_count": 42,
   "metadata": {},
   "outputs": [
    {
     "name": "stdout",
     "output_type": "stream",
     "text": [
      "\u001b[34m==>\u001b[0m \u001b[1mDownloading https://formulae.brew.sh/api/formula.jws.json\u001b[0m\n",
      "######################################################################## 100.0%\n",
      "\u001b[34m==>\u001b[0m \u001b[1mDownloading https://formulae.brew.sh/api/cask.jws.json\u001b[0m\n",
      "######################################################################## 100.0%\n",
      "\u001b[32m==>\u001b[0m \u001b[1mFetching \u001b[32mabcmidi\u001b[39m\u001b[0m\n",
      "\u001b[34m==>\u001b[0m \u001b[1mDownloading https://ghcr.io/v2/homebrew/core/abcmidi/manifests/2023.03.15\u001b[0m\n",
      "######################################################################## 100.0%\n",
      "\u001b[34m==>\u001b[0m \u001b[1mDownloading https://ghcr.io/v2/homebrew/core/abcmidi/blobs/sha256:74c55d78b8\u001b[0m\n",
      "\u001b[34m==>\u001b[0m \u001b[1mDownloading from https://pkg-containers.githubusercontent.com/ghcr1/blobs/sh\u001b[0m\n",
      "######################################################################## 100.0%\n",
      "\u001b[34m==>\u001b[0m \u001b[1mPouring abcmidi--2023.03.15.arm64_ventura.bottle.tar.gz\u001b[0m\n",
      "🍺  /opt/homebrew/Cellar/abcmidi/2023.03.15: 30 files, 1.5MB\n",
      "\u001b[34m==>\u001b[0m \u001b[1mRunning `brew cleanup abcmidi`...\u001b[0m\n",
      "Disable this behaviour by setting HOMEBREW_NO_INSTALL_CLEANUP.\n",
      "Hide these hints with HOMEBREW_NO_ENV_HINTS (see `man brew`).\n"
     ]
    }
   ],
   "source": [
    "!brew install abcmidi\n"
   ]
  },
  {
   "cell_type": "code",
   "execution_count": 41,
   "metadata": {},
   "outputs": [
    {
     "name": "stdout",
     "output_type": "stream",
     "text": [
      "FluidSynth runtime version 2.3.1\n",
      "Copyright (C) 2000-2022 Peter Hanappe and others.\n",
      "Distributed under the LGPL license.\n",
      "SoundFont(R) is a registered trademark of Creative Technology Ltd.\n",
      "\n",
      "Rendering audio to file 'output.wav'..\n"
     ]
    },
    {
     "data": {
      "text/plain": [
       "0"
      ]
     },
     "execution_count": 41,
     "metadata": {},
     "output_type": "execute_result"
    }
   ],
   "source": [
    "import os\n",
    "from music21 import converter, midi\n",
    "from pathlib import Path\n",
    "\n",
    "# Save the ABC notation to a file\n",
    "abc_notation = '''\n",
    "X:1\n",
    "T:River Flows in You\n",
    "M:4/4\n",
    "L:1/8\n",
    "Q:1/4=80\n",
    "K:C\n",
    "V:1 name=Piano clef=treble\n",
    "%%MIDI program 1 0 % Piano\n",
    "%%MIDI channel 1\n",
    "|: C2E2G2c2 | E2G2c2e2 | G2B2d2g2 | C4z4 :|\n",
    "V:2 name=Piano clef=bass\n",
    "%%MIDI program 2 0 % Piano\n",
    "%%MIDI channel 2\n",
    "|: E2G2B2e2 | G2B2d2g2 | B2D2F2B2 | E4z4 :|\n",
    "V:3 name=Violin clef=treble\n",
    "%%MIDI program 3 40 % Violin\n",
    "%%MIDI channel 3\n",
    "|: G2B2d2G2 | B2D2F2B2 | D2F2A2D2 | G4z4 :|\n",
    "'''\n",
    "# Convert the ABC file to a MIDI file\n",
    "midi_file = 'output.mid'\n",
    "score = converter.parse(abc_notation)\n",
    "midi_stream = midi.translate.streamToMidiFile(score)\n",
    "midi_stream.open(midi_file, 'wb')\n",
    "midi_stream.write()\n",
    "midi_stream.close()\n",
    "\n",
    "# Convert the MIDI file to a WAV file\n",
    "soundfont_path = './soundfonts/FluidR3_GM.sf2'\n",
    "wav_file = 'output.wav'\n",
    "os.system(f'fluidsynth -ni {soundfont_path} {midi_file} -F {wav_file} -r 44100')\n"
   ]
  },
  {
   "cell_type": "code",
   "execution_count": 37,
   "metadata": {},
   "outputs": [],
   "source": [
    "import mido \n",
    "import wave\n",
    "import fluidsynth\n",
    "import numpy as np\n",
    "from io import BytesIO\n",
    "\n",
    "def convert(self, mid: mido.MidiFile) -> BytesIO:\n",
    "    # Set up fluidsynth Synth object\n",
    "    fl = fluidsynth.Synth(samplerate=44100.0)\n",
    "    sfid = fl.sfload(self.sound_font)\n",
    "\n",
    "    # Select instruments for each channel\n",
    "    for instr, channel in [(0, 0), (40, 1), (27, 2)]:  # Piano, Violin, Guitar\n",
    "        fl.program_select(channel, sfid, 0, self.instruments[instr][\"num\"])\n",
    "\n",
    "    # Generate audio data from MIDI messages\n",
    "    s = []\n",
    "    note_on_times = {}\n",
    "    for msg in mid.play():\n",
    "        if msg.type == \"note_on\":\n",
    "            # Record time of note-on message\n",
    "            note_on_times[msg.note] = msg.time\n",
    "            fl.noteon(msg.channel, msg.note, msg.velocity)\n",
    "        elif msg.type == \"note_off\":\n",
    "            # Calculate duration of note based on time between note-on and note-off messages\n",
    "            duration = msg.time - note_on_times[msg.note]\n",
    "            s = np.append(s, fl.get_samples(int(duration * 44100)))\n",
    "            fl.noteoff(msg.channel, msg.note)\n",
    "        else:\n",
    "            s = np.append(s, fl.get_samples(int(msg.time * 44100)))\n",
    "    fl.delete()\n",
    "\n",
    "    # Convert audio data to string\n",
    "    samps = fluidsynth.raw_audio_string(s)\n",
    "\n",
    "    # Open wave file for writing\n",
    "    file = BytesIO()\n",
    "    wav_file = wave.open(file, \"wb\")\n",
    "    # Set wave file parameters\n",
    "    wav_file.setparams((2, 2, 44100, 0, \"NONE\", \"not compressed\"))\n",
    "    # Write audio data to wave file\n",
    "    wav_file.writeframes(samps)\n",
    "    # Close wave file\n",
    "    wav_file.close()\n",
    "    file.seek(0)\n",
    "    return file"
   ]
  },
  {
   "cell_type": "code",
   "execution_count": 49,
   "metadata": {},
   "outputs": [
    {
     "name": "stdout",
     "output_type": "stream",
     "text": [
      "4.84 January 20 2023 abc2midi\n",
      "writing MIDI file output.mid\n",
      "FluidSynth runtime version 2.3.1\n",
      "Copyright (C) 2000-2022 Peter Hanappe and others.\n",
      "Distributed under the LGPL license.\n",
      "SoundFont(R) is a registered trademark of Creative Technology Ltd.\n",
      "\n",
      "Rendering audio to file 'output.wav'..\n"
     ]
    },
    {
     "data": {
      "text/plain": [
       "0"
      ]
     },
     "execution_count": 49,
     "metadata": {},
     "output_type": "execute_result"
    }
   ],
   "source": [
    "import os\n",
    "\n",
    "# Save the ABC notation to a file\n",
    "abc_notation = '''\n",
    "X:1\n",
    "T:River Flows in You\n",
    "M:4/4\n",
    "L:1/8\n",
    "Q:1/4=80\n",
    "K:C\n",
    "V:1 name=Piano clef=treble\n",
    "%%MIDI program 1 0 % Piano\n",
    "|: C2E2G2c2 | E2G2c2e2 | G2B2d2g2 | C4z4 :|\n",
    "V:2 name=Piano clef=bass\n",
    "%%MIDI program 2 0 % Piano\n",
    "|: E2G2B2e2 | G2B2d2g2 | B2D2F2B2 | E4z4 :|\n",
    "V:3 name=Violin clef=treble\n",
    "%%MIDI program 3 40 % Violin\n",
    "|: G2B2d2G2 | B2D2F2B2 | D2F2A2D2 | G4z4 :|\n",
    "'''\n",
    "abc_file = 'input.abc'\n",
    "with open(abc_file, 'w') as f:\n",
    "    f.write(abc_notation)\n",
    "\n",
    "# Convert the ABC file to a MIDI file using abcmidi\n",
    "midi_file = 'output.mid'\n",
    "os.system(f'abc2midi {abc_file} -o {midi_file}')\n",
    "\n",
    "# Convert the MIDI file to a WAV file\n",
    "soundfont_path = './soundfonts/GeneralUser_GS_v1.471.sf2'\n",
    "wav_file = 'output.wav'\n",
    "os.system(f'fluidsynth -ni {soundfont_path} {midi_file} -F {wav_file} -r 44100')"
   ]
  },
  {
   "cell_type": "code",
   "execution_count": null,
   "metadata": {},
   "outputs": [],
   "source": []
  }
 ],
 "metadata": {
  "kernelspec": {
   "display_name": "env",
   "language": "python",
   "name": "python3"
  },
  "language_info": {
   "codemirror_mode": {
    "name": "ipython",
    "version": 3
   },
   "file_extension": ".py",
   "mimetype": "text/x-python",
   "name": "python",
   "nbconvert_exporter": "python",
   "pygments_lexer": "ipython3",
   "version": "3.10.10"
  },
  "orig_nbformat": 4
 },
 "nbformat": 4,
 "nbformat_minor": 2
}
