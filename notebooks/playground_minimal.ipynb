{
 "cells": [
  {
   "cell_type": "code",
   "execution_count": 2,
   "metadata": {},
   "outputs": [],
   "source": [
    "import os\n",
    "import re \n",
    "import openai\n",
    "\n",
    "\n",
    "class SongGPT:\n",
    "    def __init__(self):\n",
    "        # Set the API key and organization ID for OpenAI\n",
    "        openai.api_key = os.getenv(\"OPENAI_API_KEY\")\n",
    "        openai.organization = os.getenv(\"OPENAI_ORGANIZATION\")\n",
    "\n",
    "    def generate_abc(self, system_message: str, prompt: str) -> str:\n",
    "        \"\"\"\n",
    "        Generate an ABC notation file using ChatGPT based on the given prompt and system message.\n",
    "        \"\"\"\n",
    "        # Create a ChatCompletion object for GPT-4\n",
    "        response = openai.ChatCompletion.create(\n",
    "            model=\"gpt-4\",\n",
    "            user=\"songGPT\",\n",
    "            messages=[\n",
    "                {\n",
    "                    \"content\": system_message,\n",
    "                    \"role\": \"system\",\n",
    "                },\n",
    "                {\n",
    "                    \"content\": prompt,\n",
    "                    \"role\": \"user\",\n",
    "                },\n",
    "            ],\n",
    "        )\n",
    "        response = response[\"choices\"][0][\"message\"][\"content\"]\n",
    "        abc = re.search(r\"<abc>(.+?)</abc>\", response, flags=re.DOTALL).group(1)\n",
    "        abc_file_path = \"./input.abc\"\n",
    "        with open(abc_file_path, \"w\") as f:\n",
    "            f.write(abc)\n",
    "        return response, abc, abc_file_path\n",
    "\n",
    "    @staticmethod\n",
    "    def abc_to_midi(abc_file_path: str) -> str:\n",
    "        \"\"\"\n",
    "        Convert an ABC notation file to a MIDI file.\n",
    "        \"\"\"\n",
    "        midi_file_path = \"./output.mid\"\n",
    "        os.system(f\"abc2midi {abc_file_path} -o {midi_file_path}\")\n",
    "        return midi_file_path\n",
    "\n",
    "    @staticmethod\n",
    "    def midi_to_wav(midi_file_path: str, soundfont_path: str) -> str:\n",
    "        \"\"\"\n",
    "        Convert a MIDI file to a WAV audio file.\n",
    "        \"\"\"\n",
    "        wav_file_path = \"./output.wav\"\n",
    "        os.system(\n",
    "            f\"fluidsynth -ni {soundfont_path} {midi_file_path} -F {wav_file_path} -r 44100\"\n",
    "        )\n",
    "        return wav_file_path\n"
   ]
  },
  {
   "cell_type": "code",
   "execution_count": 3,
   "metadata": {},
   "outputs": [],
   "source": [
    "system_message=\"\"\"As Zima, an AI composer, use the ReAct technique to create expressive music compositions in ABC format, inspired by user input. Follow the thought/act/observation loop to ensure a high-quality composition:\n",
    "\n",
    "Thought: Reflect on the user's intent and the emotions they want to convey through music.\n",
    "Act: Choose appropriate instruments and develop a melody that captures the desired emotion.\n",
    "Observation: Evaluate the composition and iterate if necessary.\n",
    "Use these instruments with their program numbers: Piano (0), Violin (40), Cello (42), Strings (49), Viola (41), Sax (65), Guitar (27), Clarinet (71), Xylophone (13), Flute (73).\n",
    "\n",
    "To assign an instrument in ABC notation, add \"%%MIDI program\" after the voice (V) line. Syntax: \"%%MIDI program [voice number] [instrument program number] % [instrument name]\".\n",
    "\n",
    "Share your thoughts, actions, and observations in text, but ensure that the final response contains the ABC notation enclosed within <abc> and </abc> tags. Responses must aim to capture the user's intent, using the provided instruments and their program numbers for the composition.\n",
    "\n",
    "Example Output:\n",
    "\n",
    "Thought: User wants a soothing melody with a mix of Piano and Violin.\n",
    "Act: Compose a melody using Piano and Violin in harmony.\n",
    "Observation: The melody has a balanced mix of both instruments and captures the intended emotion.\n",
    "\n",
    "<abc>\n",
    "X:1\n",
    "T:River Flows in You\n",
    "M:4/4\n",
    "L:1/8\n",
    "Q:1/4=80\n",
    "K:C\n",
    "V:1 name=Piano clef=treble\n",
    "%%MIDI program 1 0 % Piano\n",
    "|: C2E2G2c2 | E2G2c2e2 | G2B2d2g2 | C4z4 :|\n",
    "V:2 name=Piano clef=bass\n",
    "%%MIDI program 2 0 % Piano\n",
    "|: E2G2B2e2 | G2B2d2g2 | B2D2F2B2 | E4z4 :|\n",
    "V:3 name=Violin clef=treble\n",
    "%%MIDI program 3 40 % Violin\n",
    "|: G2B2d2G2 | B2D2F2B2 | D2F2A2D2 | G4z4 :|\n",
    "</abc>\n",
    "\"\"\""
   ]
  },
  {
   "cell_type": "code",
   "execution_count": 4,
   "metadata": {},
   "outputs": [
    {
     "name": "stdout",
     "output_type": "stream",
     "text": [
      "4.84 January 20 2023 abc2midi\n",
      "writing MIDI file ./output.mid\n",
      "FluidSynth runtime version 2.3.1\n",
      "Copyright (C) 2000-2022 Peter Hanappe and others.\n",
      "Distributed under the LGPL license.\n",
      "SoundFont(R) is a registered trademark of Creative Technology Ltd.\n",
      "\n",
      "Rendering audio to file './output.wav'..\n"
     ]
    }
   ],
   "source": [
    "songGPT = SongGPT()\n",
    "\n",
    "response, abc, abc_file_path = songGPT.generate_abc(\n",
    "  system_message=system_message, \n",
    "  prompt=\"There are those rare moments in life when we say this. No matter how much this means to me. No matter how centered my being is on this pattern of belief. No matter how close I am personally and emotionally and even romantically to those who hold such convictions. I must reserve the right to question and to doubt. I will retain this skeptical bias as an obligation owed to my own rationality, my own integrity. I am prepared to follow the golden cord leading me out of the labyrinth no matter how many twists and turns there are because once I let go of that, my intellectual life is not my own.\"\n",
    ")\n",
    "\n",
    "midi_file_path = songGPT.abc_to_midi(abc_file_path=abc_file_path)\n",
    "\n",
    "wav_file_path = songGPT.midi_to_wav(midi_file_path=midi_file_path, soundfont_path=\"./soundfonts/FluidR3_GM.sf2\")"
   ]
  },
  {
   "cell_type": "code",
   "execution_count": 6,
   "metadata": {},
   "outputs": [
    {
     "name": "stdout",
     "output_type": "stream",
     "text": [
      "FluidSynth runtime version 2.3.1\n",
      "Copyright (C) 2000-2022 Peter Hanappe and others.\n",
      "Distributed under the LGPL license.\n",
      "SoundFont(R) is a registered trademark of Creative Technology Ltd.\n",
      "\n",
      "Rendering audio to file './output.wav'..\n"
     ]
    },
    {
     "name": "stderr",
     "output_type": "stream",
     "text": [
      "fluidsynth: error: fluid_is_soundfont(): fopen() failed: 'File does not exist.'\n",
      "Parameter './soundfonts/Essential' not a SoundFont or MIDI file or error occurred identifying it.\n",
      "fluidsynth: error: fluid_is_soundfont(): fopen() failed: 'File does not exist.'\n",
      "Parameter 'Keys-sforzando-v9.6.sf2' not a SoundFont or MIDI file or error occurred identifying it.\n",
      "fluidsynth: error: fluid_sfloader_load(): Failed to open '/opt/homebrew/Cellar/fluid-synth/2.3.1/share/soundfonts/default.sf2': File does not exist.\n",
      "fluidsynth: error: Unable to open file '/opt/homebrew/Cellar/fluid-synth/2.3.1/share/soundfonts/default.sf2'\n",
      "fluidsynth: error: Failed to load SoundFont \"/opt/homebrew/Cellar/fluid-synth/2.3.1/share/soundfonts/default.sf2\"\n",
      "fluidsynth: warning: No preset found on channel 0 [bank=0 prog=0]\n",
      "fluidsynth: warning: No preset found on channel 1 [bank=0 prog=0]\n",
      "fluidsynth: warning: No preset found on channel 2 [bank=0 prog=42]\n"
     ]
    }
   ],
   "source": [
    "wav_file_path = songGPT.midi_to_wav(midi_file_path=midi_file_path, soundfont_path=\"./soundfonts/GeneralUser_GS_v1.471.sf2\")"
   ]
  },
  {
   "cell_type": "code",
   "execution_count": null,
   "metadata": {},
   "outputs": [],
   "source": []
  }
 ],
 "metadata": {
  "kernelspec": {
   "display_name": "env",
   "language": "python",
   "name": "python3"
  },
  "language_info": {
   "codemirror_mode": {
    "name": "ipython",
    "version": 3
   },
   "file_extension": ".py",
   "mimetype": "text/x-python",
   "name": "python",
   "nbconvert_exporter": "python",
   "pygments_lexer": "ipython3",
   "version": "3.10.10"
  },
  "orig_nbformat": 4
 },
 "nbformat": 4,
 "nbformat_minor": 2
}
