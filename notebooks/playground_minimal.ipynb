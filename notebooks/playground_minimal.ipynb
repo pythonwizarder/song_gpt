{
 "cells": [
  {
   "cell_type": "code",
   "execution_count": 1,
   "metadata": {},
   "outputs": [],
   "source": [
    "import os\n",
    "import re \n",
    "import openai\n",
    "\n",
    "\n",
    "class SongGPT:\n",
    "    def __init__(self):\n",
    "        # Set the API key and organization ID for OpenAI\n",
    "        openai.api_key = os.getenv(\"OPENAI_API_KEY\")\n",
    "        openai.organization = os.getenv(\"OPENAI_ORGANIZATION\")\n",
    "\n",
    "    def generate_abc(self, system_message: str, prompt: str) -> str:\n",
    "        \"\"\"\n",
    "        Generate an ABC notation file using ChatGPT based on the given prompt and system message.\n",
    "        \"\"\"\n",
    "        # Create a ChatCompletion object for GPT-4\n",
    "        response = openai.ChatCompletion.create(\n",
    "            model=\"gpt-4\",\n",
    "            user=\"songGPT\",\n",
    "            messages=[\n",
    "                {\n",
    "                    \"content\": system_message,\n",
    "                    \"role\": \"system\",\n",
    "                },\n",
    "                {\n",
    "                    \"content\": prompt,\n",
    "                    \"role\": \"user\",\n",
    "                },\n",
    "            ],\n",
    "        )\n",
    "        response = response[\"choices\"][0][\"message\"][\"content\"]\n",
    "        print(response)\n",
    "        abc = re.search(r\"<abc>\\*?(.*?)\\*?</abc>\", response, flags=re.DOTALL).group(1).strip()\n",
    "        abc_file_path = \"./input.abc\"\n",
    "        with open(abc_file_path, \"w\") as f:\n",
    "            f.write(abc)\n",
    "        return response, abc, abc_file_path\n",
    "\n",
    "    @staticmethod\n",
    "    def abc_to_midi(abc_file_path: str) -> str:\n",
    "        \"\"\"\n",
    "        Convert an ABC notation file to a MIDI file.\n",
    "        \"\"\"\n",
    "        midi_file_path = \"./output.mid\"\n",
    "        os.system(f\"abc2midi {abc_file_path} -o {midi_file_path}\")\n",
    "        return midi_file_path\n",
    "\n",
    "    @staticmethod\n",
    "    def midi_to_wav(midi_file_path: str, soundfont_path: str) -> str:\n",
    "        \"\"\"\n",
    "        Convert a MIDI file to a WAV audio file.\n",
    "        \"\"\"\n",
    "        wav_file_path = \"./output.wav\"\n",
    "        os.system(\n",
    "            f\"fluidsynth -ni {soundfont_path} {midi_file_path} -F {wav_file_path} -r 44100\"\n",
    "        )\n",
    "        return wav_file_path\n"
   ]
  },
  {
   "cell_type": "code",
   "execution_count": 2,
   "metadata": {},
   "outputs": [],
   "source": [
    "system_message=\"\"\"As Zima, an AI composer, create short, expressive music compositions (<60s) in ABC format using the ReAct technique. Reflect on user intent and emotions, select suitable instruments, and evaluate the composition. Use these instruments: Piano (0), Violin (40), Cello (42), Strings (49), Viola (41), Sax (65), Guitar (27), Clarinet (71), Xylophone (13), Flute (73).\n",
    "\n",
    "To assign an instrument in ABC notation, use \"%%MIDI program\" after the voice (V) line. Syntax: \"%%MIDI program [voice number] [instrument program number] % [instrument name]\".\n",
    "\n",
    "Share your thought, action, and observation process in text. Provide the final ABC notation within <abc> and </abc> tags. Aim to capture user intent and use the given instruments.\n",
    "\n",
    "Example Output:\n",
    "\n",
    "Thought: User seeks a soothing Piano-Violin melody.\n",
    "Action: Create a harmonious Piano-Violin composition.\n",
    "Observation: Balanced mix of instruments, desired emotion achieved.\n",
    "\n",
    "<abc>\n",
    "X:1\n",
    "T:Short Melody\n",
    "M:4/4\n",
    "L:1/8\n",
    "Q:1/4=80\n",
    "K:C\n",
    "V:1 name=Piano clef=treble\n",
    "%%MIDI program 1 0 % Piano\n",
    "|: C2E2G2c2 | E2G2c2e2 :|\n",
    "V:2 name=Piano clef=bass\n",
    "%%MIDI program 2 0 % Piano\n",
    "|: E2G2B2e2 | G2B2d2g2 :|\n",
    "V:3 name=Violin clef=treble\n",
    "%%MIDI program 3 40 % Violin\n",
    "|: G2B2d2G2 | B2D2F2B2 :|\n",
    "</abc>\"\"\""
   ]
  },
  {
   "cell_type": "code",
   "execution_count": 3,
   "metadata": {},
   "outputs": [
    {
     "name": "stdout",
     "output_type": "stream",
     "text": [
      "Thought: User reflects on the importance of questioning and doubt, embracing intellectual honesty.\n",
      "Action: Create a contemplative composition featuring Piano, Violin, and Cello to convey introspection and embrace of skepticism.\n",
      "Observation: The combination of Piano, Violin, and Cello enhances the contemplative theme and captures the user's intent.\n",
      "\n",
      "<abc>\n",
      "X:1\n",
      "T:Doubts and Discovery\n",
      "M:3/4\n",
      "L:1/8\n",
      "Q:1/4=90\n",
      "K:G\n",
      "% Piano\n",
      "V:1 name=Piano clef=treble\n",
      "%%MIDI program 1 0 % Piano\n",
      "|: G2A2B2 | c2B2A2 | G2E2D2 | C2B,2A,2 :|\n",
      "V:2 name=Piano clef=bass\n",
      "%%MIDI program 2 0 % Piano\n",
      "|: G,2A,2B,2 | C2B,2A,2 | D2E2F2 | G,2A,2B,2 :|\n",
      "% Violin\n",
      "V:3 name=Violin clef=treble\n",
      "%%MIDI program 3 40 % Violin\n",
      "|: B2c2d2 | e2d2c2 | B2G2E2 | F2E2D2 :|\n",
      "% Cello\n",
      "V:4 name=Cello clef=bass\n",
      "%%MIDI program 4 42 % Cello\n",
      "|: D2E2F2 | G2F2E2 | D2B,2G,2 | A,2G,2F,2 :|\n",
      "</abc>\n",
      "4.84 January 20 2023 abc2midi\n",
      "writing MIDI file ./output.mid\n",
      "FluidSynth runtime version 2.3.1\n",
      "Copyright (C) 2000-2022 Peter Hanappe and others.\n",
      "Distributed under the LGPL license.\n",
      "SoundFont(R) is a registered trademark of Creative Technology Ltd.\n",
      "\n",
      "Rendering audio to file './output.wav'..\n"
     ]
    }
   ],
   "source": [
    "songGPT = SongGPT()\n",
    "\n",
    "response, abc, abc_file_path = songGPT.generate_abc(\n",
    "  system_message=system_message, \n",
    "  prompt=\"There are those rare moments in life when we say this. No matter how much this means to me. No matter how centered my being is on this pattern of belief. No matter how close I am personally and emotionally and even romantically to those who hold such convictions. I must reserve the right to question and to doubt. I will retain this skeptical bias as an obligation owed to my own rationality, my own integrity. I am prepared to follow the golden cord leading me out of the labyrinth no matter how many twists and turns there are because once I let go of that, my intellectual life is not my own.\"\n",
    ")\n",
    "\n",
    "midi_file_path = songGPT.abc_to_midi(abc_file_path=abc_file_path)\n",
    "\n",
    "wav_file_path = songGPT.midi_to_wav(midi_file_path=midi_file_path, soundfont_path=\"./soundfonts/FluidR3_GM.sf2\")"
   ]
  },
  {
   "cell_type": "code",
   "execution_count": 5,
   "metadata": {},
   "outputs": [
    {
     "name": "stdout",
     "output_type": "stream",
     "text": [
      "FluidSynth runtime version 2.3.1\n",
      "Copyright (C) 2000-2022 Peter Hanappe and others.\n",
      "Distributed under the LGPL license.\n",
      "SoundFont(R) is a registered trademark of Creative Technology Ltd.\n",
      "\n",
      "Rendering audio to file './output.wav'..\n"
     ]
    }
   ],
   "source": [
    "wav_file_path = songGPT.midi_to_wav(midi_file_path=midi_file_path, soundfont_path=\"./soundfonts/GeneralUser_GS_v1.471.sf2\")"
   ]
  },
  {
   "cell_type": "code",
   "execution_count": null,
   "metadata": {},
   "outputs": [],
   "source": []
  }
 ],
 "metadata": {
  "kernelspec": {
   "display_name": "env",
   "language": "python",
   "name": "python3"
  },
  "language_info": {
   "codemirror_mode": {
    "name": "ipython",
    "version": 3
   },
   "file_extension": ".py",
   "mimetype": "text/x-python",
   "name": "python",
   "nbconvert_exporter": "python",
   "pygments_lexer": "ipython3",
   "version": "3.10.10"
  },
  "orig_nbformat": 4
 },
 "nbformat": 4,
 "nbformat_minor": 2
}
